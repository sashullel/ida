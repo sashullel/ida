{
  "cells": [
    {
      "cell_type": "markdown",
      "metadata": {
        "id": "O6_OCTFzu8lE"
      },
      "source": [
        "## Домашнее задание 3 (10 баллов)"
      ]
    },
    {
      "cell_type": "markdown",
      "metadata": {
        "id": "rIc6VNYLu8lK"
      },
      "source": [
        "### О задании"
      ]
    },
    {
      "cell_type": "markdown",
      "metadata": {
        "id": "xRsXxtgNu8lM"
      },
      "source": [
        "В этом домашнем задании вы получите опыт подготовки данных и EDA (Exploratory Data Analysis), приблизившись к реальной работе с данными с помощью уже знакомых вам инструментов: numpy, pandas, matplotlib и seaborn."
      ]
    },
    {
      "cell_type": "markdown",
      "metadata": {
        "id": "01c_ZXgNu8ld"
      },
      "source": [
        "Вы будет работать с задачей кредитного скоринга (оценка надёжности клиента). Предоставляются данные о 1000 клиентов, про которых известно около 20 признаков и положительная или отрицательная оценка в качестве кредитуемого. Эти данные нужно будет подготовить, исследовать (в том числе с помощью средств визуализации) и даже попробовать предложить какую-нибудь формулу для условной оценки надёжности клиентов исходя из предоставленных данных. Описание данных:\n",
        "https://www.rdocumentation.org/packages/evtree/versions/1.0-8/topics/GermanCredit\n",
        "\n",
        "Каждый построенный график необходимо красиво оформить - для этого требуется как минимум указать его название, а также отметить, что изображено по каждой из осей.\n",
        "Также по каждому графику ожидается небольшой комментарий с выводами.\n",
        "\n",
        "*Функции, которые могут пригодиться при оформлении графиков: `.show()`, `.title()`, `.xlabel()`, `.ylabel()`*"
      ]
    },
    {
      "cell_type": "code",
      "execution_count": null,
      "metadata": {
        "id": "kbKMD992u8ld"
      },
      "outputs": [],
      "source": [
        "import pandas as pd"
      ]
    },
    {
      "cell_type": "markdown",
      "metadata": {
        "id": "PoKE3PySu8ld"
      },
      "source": [
        "### Задание 1 (0.0 балла)"
      ]
    },
    {
      "cell_type": "markdown",
      "metadata": {
        "id": "sMh8vvlNu8ld"
      },
      "source": [
        "Прочитайте средствами pandas файл с данными по ссылке https://raw.githubusercontent.com/hse-ds/iad-intro-ds/master/2022/homeworks/hw03-EDA/german_credit.csv. Выведите базовое представление таблицы (первые 5 и последние 5 строк, размер)."
      ]
    },
    {
      "cell_type": "code",
      "execution_count": null,
      "metadata": {
        "id": "cRtVjoMlu8le",
        "colab": {
          "base_uri": "https://localhost:8080/",
          "height": 887
        },
        "outputId": "7be8eec6-0d5f-4294-dd09-d880fdb9dba5"
      },
      "outputs": [
        {
          "output_type": "execute_result",
          "data": {
            "text/plain": [
              "                                         status  duration  \\\n",
              "0                           no checking account        18   \n",
              "1                           no checking account         9   \n",
              "2                                    ... < 0 DM        12   \n",
              "3                           no checking account        12   \n",
              "4                           no checking account        12   \n",
              "..                                          ...       ...   \n",
              "995                         no checking account        24   \n",
              "996                         no checking account        24   \n",
              "997  ... >= 200 DM / salary for at least 1 year        21   \n",
              "998                                  ... < 0 DM        12   \n",
              "999                         no checking account        30   \n",
              "\n",
              "                                  credit_history              purpose  amount  \\\n",
              "0        all credits at this bank paid back duly           car (used)    1049   \n",
              "1        all credits at this bank paid back duly               others    2799   \n",
              "2    no credits taken/all credits paid back duly           retraining     841   \n",
              "3        all credits at this bank paid back duly               others    2122   \n",
              "4        all credits at this bank paid back duly               others    2171   \n",
              "..                                           ...                  ...     ...   \n",
              "995  no credits taken/all credits paid back duly  furniture/equipment    1987   \n",
              "996  no credits taken/all credits paid back duly               others    2303   \n",
              "997      all credits at this bank paid back duly               others   12680   \n",
              "998  no credits taken/all credits paid back duly  furniture/equipment    6468   \n",
              "999  no credits taken/all credits paid back duly           car (used)    6350   \n",
              "\n",
              "                        savings employment_duration installment_rate  \\\n",
              "0    unknown/no savings account              < 1 yr             < 20   \n",
              "1    unknown/no savings account    1 <= ... < 4 yrs   25 <= ... < 35   \n",
              "2                 ... <  100 DM    4 <= ... < 7 yrs   25 <= ... < 35   \n",
              "3    unknown/no savings account    1 <= ... < 4 yrs   20 <= ... < 25   \n",
              "4    unknown/no savings account    1 <= ... < 4 yrs             < 20   \n",
              "..                          ...                 ...              ...   \n",
              "995  unknown/no savings account    1 <= ... < 4 yrs   25 <= ... < 35   \n",
              "996  unknown/no savings account            >= 7 yrs             < 20   \n",
              "997              ... >= 1000 DM            >= 7 yrs             < 20   \n",
              "998              ... >= 1000 DM          unemployed   25 <= ... < 35   \n",
              "999              ... >= 1000 DM            >= 7 yrs             < 20   \n",
              "\n",
              "                      personal_status_sex other_debtors  ...  \\\n",
              "0    female : non-single or male : single          none  ...   \n",
              "1                  male : married/widowed          none  ...   \n",
              "2    female : non-single or male : single          none  ...   \n",
              "3                  male : married/widowed          none  ...   \n",
              "4                  male : married/widowed          none  ...   \n",
              "..                                    ...           ...  ...   \n",
              "995                male : married/widowed          none  ...   \n",
              "996                male : married/widowed  co-applicant  ...   \n",
              "997                male : married/widowed          none  ...   \n",
              "998                male : married/widowed          none  ...   \n",
              "999                male : married/widowed          none  ...   \n",
              "\n",
              "                  property age  other_installment_plans   housing  \\\n",
              "0             car or other  21                     none  for free   \n",
              "1    unknown / no property  36                     none  for free   \n",
              "2    unknown / no property  23                     none  for free   \n",
              "3    unknown / no property  39                     none  for free   \n",
              "4             car or other  38                     bank      rent   \n",
              "..                     ...  ..                      ...       ...   \n",
              "995  unknown / no property  21                     none  for free   \n",
              "996  unknown / no property  45                     none      rent   \n",
              "997            real estate  30                     none       own   \n",
              "998            real estate  52                     none      rent   \n",
              "999           car or other  31                     none      rent   \n",
              "\n",
              "    number_credits                                         job people_liable  \\\n",
              "0                1                   skilled employee/official        0 to 2   \n",
              "1              2-3                   skilled employee/official     3 or more   \n",
              "2                1                        unskilled - resident        0 to 2   \n",
              "3              2-3                        unskilled - resident     3 or more   \n",
              "4              2-3                        unskilled - resident        0 to 2   \n",
              "..             ...                                         ...           ...   \n",
              "995              1                        unskilled - resident     3 or more   \n",
              "996              1                   skilled employee/official        0 to 2   \n",
              "997              1  manager/self-empl./highly qualif. employee        0 to 2   \n",
              "998              1  manager/self-empl./highly qualif. employee        0 to 2   \n",
              "999              1                   skilled employee/official        0 to 2   \n",
              "\n",
              "                     telephone foreign_worker credit_risk  \n",
              "0                           no             no        good  \n",
              "1                           no             no        good  \n",
              "2                           no             no        good  \n",
              "3                           no            yes        good  \n",
              "4                           no            yes        good  \n",
              "..                         ...            ...         ...  \n",
              "995                         no             no         bad  \n",
              "996                         no             no         bad  \n",
              "997  yes (under customer name)             no         bad  \n",
              "998  yes (under customer name)             no         bad  \n",
              "999                         no             no         bad  \n",
              "\n",
              "[1000 rows x 21 columns]"
            ],
            "text/html": [
              "\n",
              "  <div id=\"df-9bce7146-e1b1-4d24-8d44-aa4b2f0ecb8d\">\n",
              "    <div class=\"colab-df-container\">\n",
              "      <div>\n",
              "<style scoped>\n",
              "    .dataframe tbody tr th:only-of-type {\n",
              "        vertical-align: middle;\n",
              "    }\n",
              "\n",
              "    .dataframe tbody tr th {\n",
              "        vertical-align: top;\n",
              "    }\n",
              "\n",
              "    .dataframe thead th {\n",
              "        text-align: right;\n",
              "    }\n",
              "</style>\n",
              "<table border=\"1\" class=\"dataframe\">\n",
              "  <thead>\n",
              "    <tr style=\"text-align: right;\">\n",
              "      <th></th>\n",
              "      <th>status</th>\n",
              "      <th>duration</th>\n",
              "      <th>credit_history</th>\n",
              "      <th>purpose</th>\n",
              "      <th>amount</th>\n",
              "      <th>savings</th>\n",
              "      <th>employment_duration</th>\n",
              "      <th>installment_rate</th>\n",
              "      <th>personal_status_sex</th>\n",
              "      <th>other_debtors</th>\n",
              "      <th>...</th>\n",
              "      <th>property</th>\n",
              "      <th>age</th>\n",
              "      <th>other_installment_plans</th>\n",
              "      <th>housing</th>\n",
              "      <th>number_credits</th>\n",
              "      <th>job</th>\n",
              "      <th>people_liable</th>\n",
              "      <th>telephone</th>\n",
              "      <th>foreign_worker</th>\n",
              "      <th>credit_risk</th>\n",
              "    </tr>\n",
              "  </thead>\n",
              "  <tbody>\n",
              "    <tr>\n",
              "      <th>0</th>\n",
              "      <td>no checking account</td>\n",
              "      <td>18</td>\n",
              "      <td>all credits at this bank paid back duly</td>\n",
              "      <td>car (used)</td>\n",
              "      <td>1049</td>\n",
              "      <td>unknown/no savings account</td>\n",
              "      <td>&lt; 1 yr</td>\n",
              "      <td>&lt; 20</td>\n",
              "      <td>female : non-single or male : single</td>\n",
              "      <td>none</td>\n",
              "      <td>...</td>\n",
              "      <td>car or other</td>\n",
              "      <td>21</td>\n",
              "      <td>none</td>\n",
              "      <td>for free</td>\n",
              "      <td>1</td>\n",
              "      <td>skilled employee/official</td>\n",
              "      <td>0 to 2</td>\n",
              "      <td>no</td>\n",
              "      <td>no</td>\n",
              "      <td>good</td>\n",
              "    </tr>\n",
              "    <tr>\n",
              "      <th>1</th>\n",
              "      <td>no checking account</td>\n",
              "      <td>9</td>\n",
              "      <td>all credits at this bank paid back duly</td>\n",
              "      <td>others</td>\n",
              "      <td>2799</td>\n",
              "      <td>unknown/no savings account</td>\n",
              "      <td>1 &lt;= ... &lt; 4 yrs</td>\n",
              "      <td>25 &lt;= ... &lt; 35</td>\n",
              "      <td>male : married/widowed</td>\n",
              "      <td>none</td>\n",
              "      <td>...</td>\n",
              "      <td>unknown / no property</td>\n",
              "      <td>36</td>\n",
              "      <td>none</td>\n",
              "      <td>for free</td>\n",
              "      <td>2-3</td>\n",
              "      <td>skilled employee/official</td>\n",
              "      <td>3 or more</td>\n",
              "      <td>no</td>\n",
              "      <td>no</td>\n",
              "      <td>good</td>\n",
              "    </tr>\n",
              "    <tr>\n",
              "      <th>2</th>\n",
              "      <td>... &lt; 0 DM</td>\n",
              "      <td>12</td>\n",
              "      <td>no credits taken/all credits paid back duly</td>\n",
              "      <td>retraining</td>\n",
              "      <td>841</td>\n",
              "      <td>... &lt;  100 DM</td>\n",
              "      <td>4 &lt;= ... &lt; 7 yrs</td>\n",
              "      <td>25 &lt;= ... &lt; 35</td>\n",
              "      <td>female : non-single or male : single</td>\n",
              "      <td>none</td>\n",
              "      <td>...</td>\n",
              "      <td>unknown / no property</td>\n",
              "      <td>23</td>\n",
              "      <td>none</td>\n",
              "      <td>for free</td>\n",
              "      <td>1</td>\n",
              "      <td>unskilled - resident</td>\n",
              "      <td>0 to 2</td>\n",
              "      <td>no</td>\n",
              "      <td>no</td>\n",
              "      <td>good</td>\n",
              "    </tr>\n",
              "    <tr>\n",
              "      <th>3</th>\n",
              "      <td>no checking account</td>\n",
              "      <td>12</td>\n",
              "      <td>all credits at this bank paid back duly</td>\n",
              "      <td>others</td>\n",
              "      <td>2122</td>\n",
              "      <td>unknown/no savings account</td>\n",
              "      <td>1 &lt;= ... &lt; 4 yrs</td>\n",
              "      <td>20 &lt;= ... &lt; 25</td>\n",
              "      <td>male : married/widowed</td>\n",
              "      <td>none</td>\n",
              "      <td>...</td>\n",
              "      <td>unknown / no property</td>\n",
              "      <td>39</td>\n",
              "      <td>none</td>\n",
              "      <td>for free</td>\n",
              "      <td>2-3</td>\n",
              "      <td>unskilled - resident</td>\n",
              "      <td>3 or more</td>\n",
              "      <td>no</td>\n",
              "      <td>yes</td>\n",
              "      <td>good</td>\n",
              "    </tr>\n",
              "    <tr>\n",
              "      <th>4</th>\n",
              "      <td>no checking account</td>\n",
              "      <td>12</td>\n",
              "      <td>all credits at this bank paid back duly</td>\n",
              "      <td>others</td>\n",
              "      <td>2171</td>\n",
              "      <td>unknown/no savings account</td>\n",
              "      <td>1 &lt;= ... &lt; 4 yrs</td>\n",
              "      <td>&lt; 20</td>\n",
              "      <td>male : married/widowed</td>\n",
              "      <td>none</td>\n",
              "      <td>...</td>\n",
              "      <td>car or other</td>\n",
              "      <td>38</td>\n",
              "      <td>bank</td>\n",
              "      <td>rent</td>\n",
              "      <td>2-3</td>\n",
              "      <td>unskilled - resident</td>\n",
              "      <td>0 to 2</td>\n",
              "      <td>no</td>\n",
              "      <td>yes</td>\n",
              "      <td>good</td>\n",
              "    </tr>\n",
              "    <tr>\n",
              "      <th>...</th>\n",
              "      <td>...</td>\n",
              "      <td>...</td>\n",
              "      <td>...</td>\n",
              "      <td>...</td>\n",
              "      <td>...</td>\n",
              "      <td>...</td>\n",
              "      <td>...</td>\n",
              "      <td>...</td>\n",
              "      <td>...</td>\n",
              "      <td>...</td>\n",
              "      <td>...</td>\n",
              "      <td>...</td>\n",
              "      <td>...</td>\n",
              "      <td>...</td>\n",
              "      <td>...</td>\n",
              "      <td>...</td>\n",
              "      <td>...</td>\n",
              "      <td>...</td>\n",
              "      <td>...</td>\n",
              "      <td>...</td>\n",
              "      <td>...</td>\n",
              "    </tr>\n",
              "    <tr>\n",
              "      <th>995</th>\n",
              "      <td>no checking account</td>\n",
              "      <td>24</td>\n",
              "      <td>no credits taken/all credits paid back duly</td>\n",
              "      <td>furniture/equipment</td>\n",
              "      <td>1987</td>\n",
              "      <td>unknown/no savings account</td>\n",
              "      <td>1 &lt;= ... &lt; 4 yrs</td>\n",
              "      <td>25 &lt;= ... &lt; 35</td>\n",
              "      <td>male : married/widowed</td>\n",
              "      <td>none</td>\n",
              "      <td>...</td>\n",
              "      <td>unknown / no property</td>\n",
              "      <td>21</td>\n",
              "      <td>none</td>\n",
              "      <td>for free</td>\n",
              "      <td>1</td>\n",
              "      <td>unskilled - resident</td>\n",
              "      <td>3 or more</td>\n",
              "      <td>no</td>\n",
              "      <td>no</td>\n",
              "      <td>bad</td>\n",
              "    </tr>\n",
              "    <tr>\n",
              "      <th>996</th>\n",
              "      <td>no checking account</td>\n",
              "      <td>24</td>\n",
              "      <td>no credits taken/all credits paid back duly</td>\n",
              "      <td>others</td>\n",
              "      <td>2303</td>\n",
              "      <td>unknown/no savings account</td>\n",
              "      <td>&gt;= 7 yrs</td>\n",
              "      <td>&lt; 20</td>\n",
              "      <td>male : married/widowed</td>\n",
              "      <td>co-applicant</td>\n",
              "      <td>...</td>\n",
              "      <td>unknown / no property</td>\n",
              "      <td>45</td>\n",
              "      <td>none</td>\n",
              "      <td>rent</td>\n",
              "      <td>1</td>\n",
              "      <td>skilled employee/official</td>\n",
              "      <td>0 to 2</td>\n",
              "      <td>no</td>\n",
              "      <td>no</td>\n",
              "      <td>bad</td>\n",
              "    </tr>\n",
              "    <tr>\n",
              "      <th>997</th>\n",
              "      <td>... &gt;= 200 DM / salary for at least 1 year</td>\n",
              "      <td>21</td>\n",
              "      <td>all credits at this bank paid back duly</td>\n",
              "      <td>others</td>\n",
              "      <td>12680</td>\n",
              "      <td>... &gt;= 1000 DM</td>\n",
              "      <td>&gt;= 7 yrs</td>\n",
              "      <td>&lt; 20</td>\n",
              "      <td>male : married/widowed</td>\n",
              "      <td>none</td>\n",
              "      <td>...</td>\n",
              "      <td>real estate</td>\n",
              "      <td>30</td>\n",
              "      <td>none</td>\n",
              "      <td>own</td>\n",
              "      <td>1</td>\n",
              "      <td>manager/self-empl./highly qualif. employee</td>\n",
              "      <td>0 to 2</td>\n",
              "      <td>yes (under customer name)</td>\n",
              "      <td>no</td>\n",
              "      <td>bad</td>\n",
              "    </tr>\n",
              "    <tr>\n",
              "      <th>998</th>\n",
              "      <td>... &lt; 0 DM</td>\n",
              "      <td>12</td>\n",
              "      <td>no credits taken/all credits paid back duly</td>\n",
              "      <td>furniture/equipment</td>\n",
              "      <td>6468</td>\n",
              "      <td>... &gt;= 1000 DM</td>\n",
              "      <td>unemployed</td>\n",
              "      <td>25 &lt;= ... &lt; 35</td>\n",
              "      <td>male : married/widowed</td>\n",
              "      <td>none</td>\n",
              "      <td>...</td>\n",
              "      <td>real estate</td>\n",
              "      <td>52</td>\n",
              "      <td>none</td>\n",
              "      <td>rent</td>\n",
              "      <td>1</td>\n",
              "      <td>manager/self-empl./highly qualif. employee</td>\n",
              "      <td>0 to 2</td>\n",
              "      <td>yes (under customer name)</td>\n",
              "      <td>no</td>\n",
              "      <td>bad</td>\n",
              "    </tr>\n",
              "    <tr>\n",
              "      <th>999</th>\n",
              "      <td>no checking account</td>\n",
              "      <td>30</td>\n",
              "      <td>no credits taken/all credits paid back duly</td>\n",
              "      <td>car (used)</td>\n",
              "      <td>6350</td>\n",
              "      <td>... &gt;= 1000 DM</td>\n",
              "      <td>&gt;= 7 yrs</td>\n",
              "      <td>&lt; 20</td>\n",
              "      <td>male : married/widowed</td>\n",
              "      <td>none</td>\n",
              "      <td>...</td>\n",
              "      <td>car or other</td>\n",
              "      <td>31</td>\n",
              "      <td>none</td>\n",
              "      <td>rent</td>\n",
              "      <td>1</td>\n",
              "      <td>skilled employee/official</td>\n",
              "      <td>0 to 2</td>\n",
              "      <td>no</td>\n",
              "      <td>no</td>\n",
              "      <td>bad</td>\n",
              "    </tr>\n",
              "  </tbody>\n",
              "</table>\n",
              "<p>1000 rows × 21 columns</p>\n",
              "</div>\n",
              "      <button class=\"colab-df-convert\" onclick=\"convertToInteractive('df-9bce7146-e1b1-4d24-8d44-aa4b2f0ecb8d')\"\n",
              "              title=\"Convert this dataframe to an interactive table.\"\n",
              "              style=\"display:none;\">\n",
              "        \n",
              "  <svg xmlns=\"http://www.w3.org/2000/svg\" height=\"24px\"viewBox=\"0 0 24 24\"\n",
              "       width=\"24px\">\n",
              "    <path d=\"M0 0h24v24H0V0z\" fill=\"none\"/>\n",
              "    <path d=\"M18.56 5.44l.94 2.06.94-2.06 2.06-.94-2.06-.94-.94-2.06-.94 2.06-2.06.94zm-11 1L8.5 8.5l.94-2.06 2.06-.94-2.06-.94L8.5 2.5l-.94 2.06-2.06.94zm10 10l.94 2.06.94-2.06 2.06-.94-2.06-.94-.94-2.06-.94 2.06-2.06.94z\"/><path d=\"M17.41 7.96l-1.37-1.37c-.4-.4-.92-.59-1.43-.59-.52 0-1.04.2-1.43.59L10.3 9.45l-7.72 7.72c-.78.78-.78 2.05 0 2.83L4 21.41c.39.39.9.59 1.41.59.51 0 1.02-.2 1.41-.59l7.78-7.78 2.81-2.81c.8-.78.8-2.07 0-2.86zM5.41 20L4 18.59l7.72-7.72 1.47 1.35L5.41 20z\"/>\n",
              "  </svg>\n",
              "      </button>\n",
              "      \n",
              "  <style>\n",
              "    .colab-df-container {\n",
              "      display:flex;\n",
              "      flex-wrap:wrap;\n",
              "      gap: 12px;\n",
              "    }\n",
              "\n",
              "    .colab-df-convert {\n",
              "      background-color: #E8F0FE;\n",
              "      border: none;\n",
              "      border-radius: 50%;\n",
              "      cursor: pointer;\n",
              "      display: none;\n",
              "      fill: #1967D2;\n",
              "      height: 32px;\n",
              "      padding: 0 0 0 0;\n",
              "      width: 32px;\n",
              "    }\n",
              "\n",
              "    .colab-df-convert:hover {\n",
              "      background-color: #E2EBFA;\n",
              "      box-shadow: 0px 1px 2px rgba(60, 64, 67, 0.3), 0px 1px 3px 1px rgba(60, 64, 67, 0.15);\n",
              "      fill: #174EA6;\n",
              "    }\n",
              "\n",
              "    [theme=dark] .colab-df-convert {\n",
              "      background-color: #3B4455;\n",
              "      fill: #D2E3FC;\n",
              "    }\n",
              "\n",
              "    [theme=dark] .colab-df-convert:hover {\n",
              "      background-color: #434B5C;\n",
              "      box-shadow: 0px 1px 3px 1px rgba(0, 0, 0, 0.15);\n",
              "      filter: drop-shadow(0px 1px 2px rgba(0, 0, 0, 0.3));\n",
              "      fill: #FFFFFF;\n",
              "    }\n",
              "  </style>\n",
              "\n",
              "      <script>\n",
              "        const buttonEl =\n",
              "          document.querySelector('#df-9bce7146-e1b1-4d24-8d44-aa4b2f0ecb8d button.colab-df-convert');\n",
              "        buttonEl.style.display =\n",
              "          google.colab.kernel.accessAllowed ? 'block' : 'none';\n",
              "\n",
              "        async function convertToInteractive(key) {\n",
              "          const element = document.querySelector('#df-9bce7146-e1b1-4d24-8d44-aa4b2f0ecb8d');\n",
              "          const dataTable =\n",
              "            await google.colab.kernel.invokeFunction('convertToInteractive',\n",
              "                                                     [key], {});\n",
              "          if (!dataTable) return;\n",
              "\n",
              "          const docLinkHtml = 'Like what you see? Visit the ' +\n",
              "            '<a target=\"_blank\" href=https://colab.research.google.com/notebooks/data_table.ipynb>data table notebook</a>'\n",
              "            + ' to learn more about interactive tables.';\n",
              "          element.innerHTML = '';\n",
              "          dataTable['output_type'] = 'display_data';\n",
              "          await google.colab.output.renderOutput(dataTable, element);\n",
              "          const docLink = document.createElement('div');\n",
              "          docLink.innerHTML = docLinkHtml;\n",
              "          element.appendChild(docLink);\n",
              "        }\n",
              "      </script>\n",
              "    </div>\n",
              "  </div>\n",
              "  "
            ]
          },
          "metadata": {},
          "execution_count": 2
        }
      ],
      "source": [
        "url = 'https://raw.githubusercontent.com/hse-ds/iad-intro-ds/master/2022/homeworks/hw03-EDA/german_credit.csv'\n",
        "data = pd.read_csv(url)\n",
        "data"
      ]
    },
    {
      "cell_type": "code",
      "source": [
        "data.shape"
      ],
      "metadata": {
        "colab": {
          "base_uri": "https://localhost:8080/"
        },
        "id": "LlkT22Aws5Nw",
        "outputId": "6adbb0ee-9dd2-4a0e-cc48-1b56e5422538"
      },
      "execution_count": null,
      "outputs": [
        {
          "output_type": "execute_result",
          "data": {
            "text/plain": [
              "(1000, 21)"
            ]
          },
          "metadata": {},
          "execution_count": 3
        }
      ]
    },
    {
      "cell_type": "markdown",
      "metadata": {
        "id": "JBbxRdOQu8le"
      },
      "source": [
        "### Задание 2 (0.5 балла)"
      ]
    },
    {
      "cell_type": "markdown",
      "metadata": {
        "id": "hIPt1r6ju8le"
      },
      "source": [
        "Определите, есть ли пропуски в данных. Разделите признаки на количественные, бинарные, порядковые и категориальные."
      ]
    },
    {
      "cell_type": "code",
      "execution_count": null,
      "metadata": {
        "id": "jD04ZLhdM6DT",
        "colab": {
          "base_uri": "https://localhost:8080/"
        },
        "outputId": "9452e155-9163-4b50-c3f0-ec56a9a351c4"
      },
      "outputs": [
        {
          "output_type": "execute_result",
          "data": {
            "text/plain": [
              "status                     0\n",
              "duration                   0\n",
              "credit_history             0\n",
              "purpose                    0\n",
              "amount                     0\n",
              "savings                    0\n",
              "employment_duration        0\n",
              "installment_rate           0\n",
              "personal_status_sex        0\n",
              "other_debtors              0\n",
              "present_residence          0\n",
              "property                   0\n",
              "age                        0\n",
              "other_installment_plans    0\n",
              "housing                    0\n",
              "number_credits             0\n",
              "job                        0\n",
              "people_liable              0\n",
              "telephone                  0\n",
              "foreign_worker             0\n",
              "credit_risk                0\n",
              "dtype: int64"
            ]
          },
          "metadata": {},
          "execution_count": 4
        }
      ],
      "source": [
        "data.isna().sum()"
      ]
    },
    {
      "cell_type": "markdown",
      "source": [
        "ни в одном из столбцов нет пропусков"
      ],
      "metadata": {
        "id": "u1zdO2hxpzSO"
      }
    },
    {
      "cell_type": "markdown",
      "source": [
        "отдельно напечатаем все имеющиеся признаки"
      ],
      "metadata": {
        "id": "Nucw5L97xRSv"
      }
    },
    {
      "cell_type": "code",
      "source": [
        "data.columns"
      ],
      "metadata": {
        "colab": {
          "base_uri": "https://localhost:8080/"
        },
        "id": "Dg19jLqpw9Dg",
        "outputId": "1ff92005-6d68-413e-ec97-7cb46ed149fd"
      },
      "execution_count": null,
      "outputs": [
        {
          "output_type": "execute_result",
          "data": {
            "text/plain": [
              "Index(['status', 'duration', 'credit_history', 'purpose', 'amount', 'savings',\n",
              "       'employment_duration', 'installment_rate', 'personal_status_sex',\n",
              "       'other_debtors', 'present_residence', 'property', 'age',\n",
              "       'other_installment_plans', 'housing', 'number_credits', 'job',\n",
              "       'people_liable', 'telephone', 'foreign_worker', 'credit_risk'],\n",
              "      dtype='object')"
            ]
          },
          "metadata": {},
          "execution_count": 5
        }
      ]
    },
    {
      "cell_type": "code",
      "source": [
        "data.status.unique()"
      ],
      "metadata": {
        "id": "EeAxRjdwYlnt",
        "outputId": "08c2ff3a-9143-4ecb-e8af-8aba2ce4b65c",
        "colab": {
          "base_uri": "https://localhost:8080/"
        }
      },
      "execution_count": null,
      "outputs": [
        {
          "output_type": "execute_result",
          "data": {
            "text/plain": [
              "array(['no checking account', '... < 0 DM',\n",
              "       '... >= 200 DM / salary for at least 1 year', '0<= ... < 200 DM'],\n",
              "      dtype=object)"
            ]
          },
          "metadata": {},
          "execution_count": 6
        }
      ]
    },
    {
      "cell_type": "code",
      "source": [
        "data.installment_rate.unique()"
      ],
      "metadata": {
        "colab": {
          "base_uri": "https://localhost:8080/"
        },
        "id": "W8ZnGc2j2MaY",
        "outputId": "59655099-27bc-4641-db4e-2bfee6106394"
      },
      "execution_count": null,
      "outputs": [
        {
          "output_type": "execute_result",
          "data": {
            "text/plain": [
              "array(['< 20', '25 <= ... < 35', '20 <= ... < 25', '>= 35'], dtype=object)"
            ]
          },
          "metadata": {},
          "execution_count": 7
        }
      ]
    },
    {
      "cell_type": "code",
      "source": [
        "data.present_residence.unique()"
      ],
      "metadata": {
        "colab": {
          "base_uri": "https://localhost:8080/"
        },
        "id": "s6RzL22V2zhW",
        "outputId": "96011100-9c99-4ecc-96a7-edeb247f8c6d"
      },
      "execution_count": null,
      "outputs": [
        {
          "output_type": "execute_result",
          "data": {
            "text/plain": [
              "array(['>= 7 yrs', '1 <= ... < 4 yrs', '4 <= ... < 7 yrs', '< 1 yr'],\n",
              "      dtype=object)"
            ]
          },
          "metadata": {},
          "execution_count": 8
        }
      ]
    },
    {
      "cell_type": "code",
      "source": [
        "data.number_credits.unique()"
      ],
      "metadata": {
        "colab": {
          "base_uri": "https://localhost:8080/"
        },
        "id": "KHyKxu--62vC",
        "outputId": "5df22c56-7005-4eff-d06c-797745ecd215"
      },
      "execution_count": null,
      "outputs": [
        {
          "output_type": "execute_result",
          "data": {
            "text/plain": [
              "array(['1', '2-3', '4-5', '>= 6'], dtype=object)"
            ]
          },
          "metadata": {},
          "execution_count": 9
        }
      ]
    },
    {
      "cell_type": "code",
      "source": [
        "data.people_liable.unique()"
      ],
      "metadata": {
        "colab": {
          "base_uri": "https://localhost:8080/"
        },
        "id": "bYsDjpV07QpY",
        "outputId": "fcac6354-5284-4bdb-9231-576ebe2ef901"
      },
      "execution_count": null,
      "outputs": [
        {
          "output_type": "execute_result",
          "data": {
            "text/plain": [
              "array(['0 to 2', '3 or more'], dtype=object)"
            ]
          },
          "metadata": {},
          "execution_count": 10
        }
      ]
    },
    {
      "cell_type": "code",
      "source": [
        "data.telephone.unique()"
      ],
      "metadata": {
        "colab": {
          "base_uri": "https://localhost:8080/"
        },
        "id": "7Lj6lKybhJ1R",
        "outputId": "cf47bc94-d40b-4492-9a8f-c61bc08577d4"
      },
      "execution_count": null,
      "outputs": [
        {
          "output_type": "execute_result",
          "data": {
            "text/plain": [
              "array(['no', 'yes (under customer name)'], dtype=object)"
            ]
          },
          "metadata": {},
          "execution_count": 11
        }
      ]
    },
    {
      "cell_type": "markdown",
      "source": [
        "**признаки:**\n",
        "\n",
        "- количественные (имеют числовое выражение, в теории могут принимать любое значение, хоть 0, хоть 32929838392, хоть 23767,3827):\n",
        "  - duration\n",
        "  - amount\n",
        "  - age\n",
        "\n",
        "\n",
        "- бинарные (они принимают только два значения, которые как бы являются противоположными, полярными, которые также нельзя сравнить между собой как больше/меньше, лучше/хуже)\n",
        "  - telephone (no/yes (under customer name)\n",
        "  - foreign_worker (no/yes)\n",
        "  - credit_risk (bad/good)\n",
        "\n",
        "- порядковые (их можно упорядочить, сравнить между собой)\n",
        "  - employment_duration (продолжительность трудоустройства у человека, работающего менее 1 года (... < 1 year), очевидно, больше чем у незанятого (unemployed), и меньше чем у того, кто работает 7 и более лет (... >= 7 years)\n",
        "  - installment_rate (ставка составляет больший процент от располагаемого дохода в значении '25 <= ... < 35', чем в значении '20 <= ... < 25', и меньший, чем в '>= 35'. все эти группы можно объективно выстроить по возрастанию, они не будут пересекаться)\n",
        "  - present_residence (можно сказать, что период проживания 7 и более лет (>= 7 yrs) объективно больше, чем период проживания менее 1 года (< 1 yr))\n",
        "  - number_credits (значения тоже составляют группы, которые можно упорядочить, сравнить между собо:'1', '2-3', '4-5', '>= 6')\n",
        "  - people_liable (несмотря на то что здесь может быть только 2 значения '0 to 2' и '3 or more', хочу отнести это к порядковым, а не бинарным, тк, как и в других порядковых признаках, эти значения можно сравнивать. кроме того, они не особо противоположные, как да/нет - формулировка значений не \"есть ответственные лица/нет ответственных лиц).\n",
        "\n",
        "- категориальные (у всех этих признаков > 2 значений, которые нельзя сравнить между собой как больше/меньше, внутри групп просто существуют разные \"равноправные\" значения): \n",
        "  - status (несмотря на то что он похож на признаки, ранее отнесенные к порядковым, статус не такой однозначный. он показывает размер счета, однако счет может быть отрицательным (... < 0 DM), его может не быть вообще (no checking account), может равняться 0 (0 <= ... < 200 DM), а может быть вообще размера '...>= 200 DM/salary for at least 1 year'. и не оч хорошо представляется, как объективно сравнивать эти значения между собой. отрицательный баланс меньше no checking account? если обозначить no checking account условно за 0, то тогда непонятно, что делать с '0 <= ... < 200 DM', где 0 тоже может быть равно. в общем непонятный признак, объективно отсортировать нельзя, просто категориальный)\n",
        "  - credit_history\n",
        "  - purpose\n",
        "  - savings\n",
        "  - personal_status_sex\n",
        "  - other_debtors\n",
        "  - property\n",
        "  - other_installment_plans\n",
        "  - housing\n",
        "  - job "
      ],
      "metadata": {
        "id": "UZYDNlayp8Rz"
      }
    },
    {
      "cell_type": "markdown",
      "metadata": {
        "id": "SqPrAHdKRTIE"
      },
      "source": [
        "### Задание 3 (0.5 балла)"
      ]
    },
    {
      "cell_type": "markdown",
      "metadata": {
        "id": "KlMiEcHBRXhD"
      },
      "source": [
        "Выведите среднюю сумму кредита (колонка amount) в каждой категории (колонка purpose), воспользовавшись методом groupby."
      ]
    },
    {
      "cell_type": "code",
      "execution_count": null,
      "metadata": {
        "id": "oXE_DvksRbpn",
        "colab": {
          "base_uri": "https://localhost:8080/",
          "height": 363
        },
        "outputId": "5901393a-80b4-4db8-e0ba-e0c556689cd7"
      },
      "outputs": [
        {
          "output_type": "execute_result",
          "data": {
            "text/plain": [
              "               purpose       amount\n",
              "0             business  8209.333333\n",
              "1            car (new)  5370.223301\n",
              "2           car (used)  3066.983425\n",
              "3  domestic appliances  2728.090909\n",
              "4  furniture/equipment  2487.685714\n",
              "5               others  3062.948718\n",
              "6     radio/television  1498.000000\n",
              "7              repairs  3180.400000\n",
              "8           retraining  4158.041237\n",
              "9             vacation  1205.888889"
            ],
            "text/html": [
              "\n",
              "  <div id=\"df-4c769f73-f3f3-4092-b154-69039384355d\">\n",
              "    <div class=\"colab-df-container\">\n",
              "      <div>\n",
              "<style scoped>\n",
              "    .dataframe tbody tr th:only-of-type {\n",
              "        vertical-align: middle;\n",
              "    }\n",
              "\n",
              "    .dataframe tbody tr th {\n",
              "        vertical-align: top;\n",
              "    }\n",
              "\n",
              "    .dataframe thead th {\n",
              "        text-align: right;\n",
              "    }\n",
              "</style>\n",
              "<table border=\"1\" class=\"dataframe\">\n",
              "  <thead>\n",
              "    <tr style=\"text-align: right;\">\n",
              "      <th></th>\n",
              "      <th>purpose</th>\n",
              "      <th>amount</th>\n",
              "    </tr>\n",
              "  </thead>\n",
              "  <tbody>\n",
              "    <tr>\n",
              "      <th>0</th>\n",
              "      <td>business</td>\n",
              "      <td>8209.333333</td>\n",
              "    </tr>\n",
              "    <tr>\n",
              "      <th>1</th>\n",
              "      <td>car (new)</td>\n",
              "      <td>5370.223301</td>\n",
              "    </tr>\n",
              "    <tr>\n",
              "      <th>2</th>\n",
              "      <td>car (used)</td>\n",
              "      <td>3066.983425</td>\n",
              "    </tr>\n",
              "    <tr>\n",
              "      <th>3</th>\n",
              "      <td>domestic appliances</td>\n",
              "      <td>2728.090909</td>\n",
              "    </tr>\n",
              "    <tr>\n",
              "      <th>4</th>\n",
              "      <td>furniture/equipment</td>\n",
              "      <td>2487.685714</td>\n",
              "    </tr>\n",
              "    <tr>\n",
              "      <th>5</th>\n",
              "      <td>others</td>\n",
              "      <td>3062.948718</td>\n",
              "    </tr>\n",
              "    <tr>\n",
              "      <th>6</th>\n",
              "      <td>radio/television</td>\n",
              "      <td>1498.000000</td>\n",
              "    </tr>\n",
              "    <tr>\n",
              "      <th>7</th>\n",
              "      <td>repairs</td>\n",
              "      <td>3180.400000</td>\n",
              "    </tr>\n",
              "    <tr>\n",
              "      <th>8</th>\n",
              "      <td>retraining</td>\n",
              "      <td>4158.041237</td>\n",
              "    </tr>\n",
              "    <tr>\n",
              "      <th>9</th>\n",
              "      <td>vacation</td>\n",
              "      <td>1205.888889</td>\n",
              "    </tr>\n",
              "  </tbody>\n",
              "</table>\n",
              "</div>\n",
              "      <button class=\"colab-df-convert\" onclick=\"convertToInteractive('df-4c769f73-f3f3-4092-b154-69039384355d')\"\n",
              "              title=\"Convert this dataframe to an interactive table.\"\n",
              "              style=\"display:none;\">\n",
              "        \n",
              "  <svg xmlns=\"http://www.w3.org/2000/svg\" height=\"24px\"viewBox=\"0 0 24 24\"\n",
              "       width=\"24px\">\n",
              "    <path d=\"M0 0h24v24H0V0z\" fill=\"none\"/>\n",
              "    <path d=\"M18.56 5.44l.94 2.06.94-2.06 2.06-.94-2.06-.94-.94-2.06-.94 2.06-2.06.94zm-11 1L8.5 8.5l.94-2.06 2.06-.94-2.06-.94L8.5 2.5l-.94 2.06-2.06.94zm10 10l.94 2.06.94-2.06 2.06-.94-2.06-.94-.94-2.06-.94 2.06-2.06.94z\"/><path d=\"M17.41 7.96l-1.37-1.37c-.4-.4-.92-.59-1.43-.59-.52 0-1.04.2-1.43.59L10.3 9.45l-7.72 7.72c-.78.78-.78 2.05 0 2.83L4 21.41c.39.39.9.59 1.41.59.51 0 1.02-.2 1.41-.59l7.78-7.78 2.81-2.81c.8-.78.8-2.07 0-2.86zM5.41 20L4 18.59l7.72-7.72 1.47 1.35L5.41 20z\"/>\n",
              "  </svg>\n",
              "      </button>\n",
              "      \n",
              "  <style>\n",
              "    .colab-df-container {\n",
              "      display:flex;\n",
              "      flex-wrap:wrap;\n",
              "      gap: 12px;\n",
              "    }\n",
              "\n",
              "    .colab-df-convert {\n",
              "      background-color: #E8F0FE;\n",
              "      border: none;\n",
              "      border-radius: 50%;\n",
              "      cursor: pointer;\n",
              "      display: none;\n",
              "      fill: #1967D2;\n",
              "      height: 32px;\n",
              "      padding: 0 0 0 0;\n",
              "      width: 32px;\n",
              "    }\n",
              "\n",
              "    .colab-df-convert:hover {\n",
              "      background-color: #E2EBFA;\n",
              "      box-shadow: 0px 1px 2px rgba(60, 64, 67, 0.3), 0px 1px 3px 1px rgba(60, 64, 67, 0.15);\n",
              "      fill: #174EA6;\n",
              "    }\n",
              "\n",
              "    [theme=dark] .colab-df-convert {\n",
              "      background-color: #3B4455;\n",
              "      fill: #D2E3FC;\n",
              "    }\n",
              "\n",
              "    [theme=dark] .colab-df-convert:hover {\n",
              "      background-color: #434B5C;\n",
              "      box-shadow: 0px 1px 3px 1px rgba(0, 0, 0, 0.15);\n",
              "      filter: drop-shadow(0px 1px 2px rgba(0, 0, 0, 0.3));\n",
              "      fill: #FFFFFF;\n",
              "    }\n",
              "  </style>\n",
              "\n",
              "      <script>\n",
              "        const buttonEl =\n",
              "          document.querySelector('#df-4c769f73-f3f3-4092-b154-69039384355d button.colab-df-convert');\n",
              "        buttonEl.style.display =\n",
              "          google.colab.kernel.accessAllowed ? 'block' : 'none';\n",
              "\n",
              "        async function convertToInteractive(key) {\n",
              "          const element = document.querySelector('#df-4c769f73-f3f3-4092-b154-69039384355d');\n",
              "          const dataTable =\n",
              "            await google.colab.kernel.invokeFunction('convertToInteractive',\n",
              "                                                     [key], {});\n",
              "          if (!dataTable) return;\n",
              "\n",
              "          const docLinkHtml = 'Like what you see? Visit the ' +\n",
              "            '<a target=\"_blank\" href=https://colab.research.google.com/notebooks/data_table.ipynb>data table notebook</a>'\n",
              "            + ' to learn more about interactive tables.';\n",
              "          element.innerHTML = '';\n",
              "          dataTable['output_type'] = 'display_data';\n",
              "          await google.colab.output.renderOutput(dataTable, element);\n",
              "          const docLink = document.createElement('div');\n",
              "          docLink.innerHTML = docLinkHtml;\n",
              "          element.appendChild(docLink);\n",
              "        }\n",
              "      </script>\n",
              "    </div>\n",
              "  </div>\n",
              "  "
            ]
          },
          "metadata": {},
          "execution_count": 12
        }
      ],
      "source": [
        "data.groupby(['purpose'], as_index=False)['amount'].mean()"
      ]
    },
    {
      "cell_type": "markdown",
      "source": [
        "всего выделяется 9 категорий, на обеспечение которых люди берут кредиты. \n",
        "\n",
        "наибольшая средняя сумма кредита наблюдается у категории бизнес (business), наименьшая - у категории отпуск (vacation)"
      ],
      "metadata": {
        "id": "PFHTq24SFwHn"
      }
    },
    {
      "cell_type": "markdown",
      "metadata": {
        "id": "mG3ALQRdu8le"
      },
      "source": [
        "### Задание 4 (0.5 балла)\n"
      ]
    },
    {
      "cell_type": "markdown",
      "metadata": {
        "id": "dlb3bBzTu8lf"
      },
      "source": [
        "Какой процент клиентов моложе 30 лет (колонка age) снимает жилье (колонка housing)? А какой процент клиентов старше 40 лет снимает жилье?"
      ]
    },
    {
      "cell_type": "code",
      "execution_count": null,
      "metadata": {
        "id": "MbGsJVWQu8lf",
        "colab": {
          "base_uri": "https://localhost:8080/"
        },
        "outputId": "b554a51b-fefa-4680-9e81-9eccd099551f"
      },
      "outputs": [
        {
          "output_type": "stream",
          "name": "stdout",
          "text": [
            "66.67% клиентов моложе 30 лет снимает жилье\n"
          ]
        }
      ],
      "source": [
        "age_data = data[data['age'] < 30]\n",
        "age_rent_data = age_data[age_data['housing'] == 'rent']\n",
        "res = (len(age_rent_data) / len(age_data) * 100)\n",
        "print(f'{round(res, 2)}% клиентов моложе 30 лет снимает жилье')"
      ]
    },
    {
      "cell_type": "code",
      "source": [
        "age_data = data[data['age'] > 40]\n",
        "age_rent_data = age_data[age_data['housing'] == 'rent']\n",
        "res = (len(age_rent_data) / len(age_data) * 100)\n",
        "print(f'{round(res, 2)}% клиентов старше 40 лет снимает жилье')"
      ],
      "metadata": {
        "colab": {
          "base_uri": "https://localhost:8080/"
        },
        "id": "HqYbtxXjgkw9",
        "outputId": "d07fdafe-8350-4923-eac4-16f292a4fa40"
      },
      "execution_count": null,
      "outputs": [
        {
          "output_type": "stream",
          "name": "stdout",
          "text": [
            "68.01% клиентов старше 40 лет снимает жилье\n"
          ]
        }
      ]
    },
    {
      "cell_type": "markdown",
      "metadata": {
        "id": "-JG_63_nu8lf"
      },
      "source": [
        "### Задание 5 (0.5 балла)"
      ]
    },
    {
      "cell_type": "markdown",
      "metadata": {
        "id": "aEC7Jj5eu8lf"
      },
      "source": [
        " У скольких иностранцев (foreign_worker) число кредитов (number_credits) больше 3?"
      ]
    },
    {
      "cell_type": "code",
      "execution_count": null,
      "metadata": {
        "id": "ScD09Oa4u8lf",
        "colab": {
          "base_uri": "https://localhost:8080/"
        },
        "outputId": "0684e223-1713-4f03-ea17-4b8e79125870"
      },
      "outputs": [
        {
          "output_type": "execute_result",
          "data": {
            "text/plain": [
              "1"
            ]
          },
          "metadata": {},
          "execution_count": 15
        }
      ],
      "source": [
        "foreigners = data[\n",
        "            ((data['foreign_worker'] == 'yes')) & \n",
        "            ((data['number_credits'] == '4-5') | (data['number_credits'] == '>= 6'))\n",
        "                  ]\n",
        "len(foreigners)"
      ]
    },
    {
      "cell_type": "markdown",
      "source": [
        "то есть только один иностранец имеет больше 3 кредитов"
      ],
      "metadata": {
        "id": "bbP7oo7zlCMD"
      }
    },
    {
      "cell_type": "markdown",
      "metadata": {
        "id": "KAe_K_upu8lg"
      },
      "source": [
        "### Задание 6 (1 балл)"
      ]
    },
    {
      "cell_type": "code",
      "execution_count": null,
      "metadata": {
        "id": "Q1pVde3gjPNB"
      },
      "outputs": [],
      "source": [
        "import numpy as np\n",
        "import matplotlib.pyplot as plt\n",
        "%matplotlib inline"
      ]
    },
    {
      "cell_type": "code",
      "source": [
        "plt.rcParams[\"figure.figsize\"] = (15, 5)  # зададим размер графиков сразу на весь ноутбук"
      ],
      "metadata": {
        "id": "FmO_RYGY3rhm"
      },
      "execution_count": null,
      "outputs": []
    },
    {
      "cell_type": "markdown",
      "metadata": {
        "id": "aW45ioAJjWMo"
      },
      "source": [
        "Используя numpy и matplotlib, начнём с тренировки: постройте график функций $sin(x)$ и $cos(x)$ от $-\\pi$ до $\\pi$ из 100 точек c легендой и сеткой. Используйте для линий разные цвета, одна из них пусть будет пунктирной. Результат в этом и следующих заданиях на построение графиков должен получиться примерно как на картинке. Содержание подписей не должно обязательно совпадать, однако осмысленные подписи должны присутствовать на графиках."
      ]
    },
    {
      "cell_type": "code",
      "execution_count": null,
      "metadata": {
        "colab": {
          "base_uri": "https://localhost:8080/",
          "height": 350
        },
        "id": "8rMlt0nbu8lg",
        "outputId": "403c17fd-7ae2-4a8f-96d2-d6252425b1d8"
      },
      "outputs": [
        {
          "output_type": "display_data",
          "data": {
            "text/plain": [
              "<Figure size 1080x360 with 1 Axes>"
            ],
            "image/png": "[encoded data removed]"
          },
          "metadata": {
            "needs_background": "light"
          }
        }
      ],
      "source": [
        "x = np.linspace(-np.pi, np.pi, 100)  # создаем 100 точек от pi до pi\n",
        "sin_g = np.sin(x)\n",
        "cos_g = np.cos(x)\n",
        "\n",
        "plt.plot(x, sin_g, color='olivedrab')  # ну красота а не цвет..\n",
        "plt.plot(x, cos_g, color='saddlebrown', linestyle='--')\n",
        "\n",
        "plt.grid()  # создаем сетку\n",
        "\n",
        "plt.xlabel('x values from -pi to pi')  # подписываем ось х\n",
        "plt.title('plot of sin(x) and cos(x) from -pi to pi')  # заголовок целого графика\n",
        "plt.legend(['sin(x)', 'cos(x)'])  # создаем легенду\n",
        "\n",
        "plt.show()"
      ]
    },
    {
      "cell_type": "markdown",
      "metadata": {
        "id": "toFoOig2u8lh"
      },
      "source": [
        "### Задание 7 (1 балл)"
      ]
    },
    {
      "cell_type": "markdown",
      "source": [
        "т.к. в этом и следующих заданиях используются 2 группы объектов: те, у которых credit risk == good, и те, у которых credit risk == bad. заранее запишем их в переменные, чтобы было удобнее."
      ],
      "metadata": {
        "id": "5lqU-BICJ-GR"
      }
    },
    {
      "cell_type": "code",
      "source": [
        "good = data[data['credit_risk'] == 'good']\n",
        "bad = data[data['credit_risk'] == 'bad']"
      ],
      "metadata": {
        "id": "mDO3WWXJJ7py"
      },
      "execution_count": null,
      "outputs": []
    },
    {
      "cell_type": "markdown",
      "metadata": {
        "id": "9I3yl5dEu8lh"
      },
      "source": [
        "Рассмотрим сравнительное количество положительных и отрицательных кейсов в зависимости от размера текущего счёта. Постройте зеркальные горизонтальные гистограммы."
      ]
    },
    {
      "cell_type": "code",
      "execution_count": null,
      "metadata": {
        "colab": {
          "base_uri": "https://localhost:8080/",
          "height": 499
        },
        "id": "sqXmg0V3u8li",
        "outputId": "972773c0-61cf-4056-9b83-4ae0653e30be"
      },
      "outputs": [
        {
          "output_type": "display_data",
          "data": {
            "text/plain": [
              "<Figure size 1296x576 with 2 Axes>"
            ],
            "image/png": "[encoded data removed]"
          },
          "metadata": {
            "needs_background": "light"
          }
        }
      ],
      "source": [
        "fig, axs = plt.subplots(1, 2, figsize=(18, 8), sharex=True)  # создаем основу для графиков, которые будут расположены в 1 строчке и 2 отдельных столбцах\n",
        "\n",
        "axs[0].set_title(\"good risk\")\n",
        "axs[0].hist(good['status'], orientation='horizontal', color='c')\n",
        "\n",
        "axs[1].set_title('bad risk')\n",
        "axs[1].hist(bad['status'], orientation='horizontal', color='m')\n",
        "axs[1].yaxis.tick_right()  # перемещаем подписи с оси у графика bad risk направо \n",
        "\n",
        "plt.show()\n"
      ]
    },
    {
      "cell_type": "markdown",
      "metadata": {
        "id": "bfJALnuMu8li"
      },
      "source": [
        "### Задание 8  (0.5 балла)"
      ]
    },
    {
      "cell_type": "code",
      "execution_count": null,
      "metadata": {
        "id": "Yi_RIvTx00EE"
      },
      "outputs": [],
      "source": [
        "import seaborn as sns"
      ]
    },
    {
      "cell_type": "markdown",
      "metadata": {
        "id": "mFbzcUiwu8li"
      },
      "source": [
        "Теперь постройте гистограмму для сравнения количества положительных и отрицательных кейсов в зависимости от размера сберегательного счёта с помощью seaborn. Какой способ вам больше нравится с точки зрения трудоёмкости написания кода? А с точки зрения восприятия результата?"
      ]
    },
    {
      "cell_type": "code",
      "execution_count": null,
      "metadata": {
        "colab": {
          "base_uri": "https://localhost:8080/",
          "height": 351
        },
        "id": "ZFe21FDJu8li",
        "outputId": "38902872-cc99-4540-a9bd-78789474ae8e"
      },
      "outputs": [
        {
          "output_type": "execute_result",
          "data": {
            "text/plain": [
              "<AxesSubplot:xlabel='savings', ylabel='Count'>"
            ]
          },
          "metadata": {},
          "execution_count": 22
        },
        {
          "output_type": "display_data",
          "data": {
            "text/plain": [
              "<Figure size 1080x360 with 1 Axes>"
            ],
            "image/png": "[encoded data removed]"
          },
          "metadata": {
            "needs_background": "light"
          }
        }
      ],
      "source": [
        "sns.histplot(data, x=\"savings\", hue=\"credit_risk\",   # выбираем признаки\n",
        "             multiple=\"dodge\",  # делаем так, чтобы бары не накладывались друг на друга, а стояли рядом \n",
        "             shrink=.7,  # задаем расстояние между столбцами разных категорий, чтобы они не сливались\n",
        "             palette='Set2')  # красиво раскрашиваем"
      ]
    },
    {
      "cell_type": "markdown",
      "source": [
        "при любом размере сберегательного счета больше положительных кейсов, однако есть явная тенденция того, что чем больше размер счета, тем выше уровень положит. кейсов по сравнению с отрицательными. \n",
        "\n",
        "в случаях когда сбер. счета нет/нет информации, отриц. кейсы составляют больше половины положительных. когда сбер. счет просто маленький, т.е. на нем меньше 100DM, тогда отриц. кейсы сост. около половины. при бОльших размерах счета кол-во положит. кейсы превышает отрицательные более, чем в 2 раза.\n",
        "\n",
        "построение графика с помощью seaborn гораздо приятнее... меньше кода, достаточно легко найти информацию о том, как что-то изменить на графике, есть однозначность (при поиске инфы про mathplotlib сложилось впечатление, что существует 999999 способов сделать одну и ту же вещь, но ни один не является удобным). и графики этого модуля лучше читаемы, лаконичные!"
      ],
      "metadata": {
        "id": "eTOe5kl-OJks"
      }
    },
    {
      "cell_type": "markdown",
      "metadata": {
        "id": "86JCla6mu8li"
      },
      "source": [
        "### Задание 9  (1 балл)"
      ]
    },
    {
      "cell_type": "markdown",
      "metadata": {
        "id": "KDWT_Zx4u8lj"
      },
      "source": [
        "seaborn легко позволяет добавить ещё больше информации на один график. Для каждого размера сберегательного счёта мы можем оценить не только количество положительных и отрицательных кейсов, но и их распределение по возрасту, например. Постройте подходящую для этого визуализацию."
      ]
    },
    {
      "cell_type": "code",
      "execution_count": null,
      "metadata": {
        "id": "_jyzuliwu8lj",
        "colab": {
          "base_uri": "https://localhost:8080/",
          "height": 351
        },
        "outputId": "7921ba0b-cc16-4825-a01a-a52516276b6b"
      },
      "outputs": [
        {
          "output_type": "execute_result",
          "data": {
            "text/plain": [
              "<AxesSubplot:xlabel='savings', ylabel='age'>"
            ]
          },
          "metadata": {},
          "execution_count": 23
        },
        {
          "output_type": "display_data",
          "data": {
            "text/plain": [
              "<Figure size 1080x360 with 1 Axes>"
            ],
            "image/png": "[encoded data removed]"
          },
          "metadata": {
            "needs_background": "light"
          }
        }
      ],
      "source": [
        "sns.violinplot(data=data, x='savings', y='age', hue='credit_risk',  # выбираем признаки\n",
        "               split=True,  # располагаем скрипичные диаграммы каждой отдельной категории так, \n",
        "                            # чтобы распределение по credit risk рисовалось для положительных и отрицательных кейсов по одному разу\n",
        "               palette='Set2')  # красиво раскрашиваем"
      ]
    },
    {
      "cell_type": "markdown",
      "source": [
        "медианный возраст для каждого размера сберегательного счета примерно одинаковый - около 30 лет.\n",
        "\n",
        "при любом размере сберегательного счета распределение отрицательных и положительных кейсов примерно одинаково.\n",
        "в качестве исключения можно только выделить категорию '500 <= ... < 1000 DM'. здесь в промежутке от 20 до примерно 50 лет наблюдалось больше положительных кейсов, нежели отрицательных. от 50 лет отрицательные кейсы уже превышали положительные"
      ],
      "metadata": {
        "id": "IC5Ziw4rnTmw"
      }
    },
    {
      "cell_type": "markdown",
      "metadata": {
        "id": "Q6ZBM9nqu8lj"
      },
      "source": [
        "### Задание 10  (0.5 балла)"
      ]
    },
    {
      "cell_type": "markdown",
      "metadata": {
        "id": "9w1ch-1cu8lj"
      },
      "source": [
        "Заканчивая с гистограммами, посмотрим на распределение положительных и отрицательных кейсов по возрастам, разместив их друг над другом. Добавим распределение всех взятых кредитов."
      ]
    },
    {
      "cell_type": "code",
      "execution_count": null,
      "metadata": {
        "id": "_hWi9-MVEQf0",
        "colab": {
          "base_uri": "https://localhost:8080/",
          "height": 799
        },
        "outputId": "df7c0e00-d2fa-4c4c-ee8a-12778c529a01"
      },
      "outputs": [
        {
          "output_type": "display_data",
          "data": {
            "text/plain": [
              "<Figure size 576x864 with 3 Axes>"
            ],
            "image/png": "[encoded data removed]"
          },
          "metadata": {
            "needs_background": "light"
          }
        }
      ],
      "source": [
        "fig, axs = plt.subplots(3, 1,  # создаем основу для графиков, которые будут расположены в один столбик в 3 отдельных строках\n",
        "                        figsize=(8, 12),  # мы изначально задавали размер на весь ноутбук, но тут он не очень подходит, поэтому меняем\n",
        "                        sharey=True)  # делаем так, чтобы гистограммы имели одинаковую ось у\n",
        "\n",
        "axs[0].hist(x=good['age'], color='darkseagreen')\n",
        "\n",
        "axs[1].hist(x=bad['age'], color='darksalmon')\n",
        "\n",
        "axs[2].hist(x=data['age'], color='cadetblue')\n",
        "\n",
        "for ax in axs: \n",
        "  ax.set(ylabel='count')  # подписываем ось y у каждой гистограммы\n",
        "\n",
        "plt.figlegend(['good credits age distribution', 'bad credits age distribution', 'overall age distribution'])  # создаем общую легенду\n",
        " \n",
        "plt.show()"
      ]
    },
    {
      "cell_type": "markdown",
      "source": [
        "по 3-му графику видно, что бОльшая часть кредитов оформлялась людьми примерно в возрасте от 25 до 30 лет. в этом же возрасте пик положительных кейсов. с увеличением возраста кол-во кредитов снижается, а кол-во положит и отриц кейсов сближается"
      ],
      "metadata": {
        "id": "giM_ktI9CHce"
      }
    },
    {
      "cell_type": "markdown",
      "metadata": {
        "id": "PVrJUff5u8lj"
      },
      "source": [
        "### Задание 11  (0.5 балла)"
      ]
    },
    {
      "cell_type": "markdown",
      "metadata": {
        "id": "Vh20VqxOu8lk"
      },
      "source": [
        "Не менее полезной иногда может быть диаграмма рассеяния. Постройте такую диаграмму с продолжительностью и размерами кредитов в качестве осей. Обозначьте положительные и отрицательные кейсы разными цветами."
      ]
    },
    {
      "cell_type": "code",
      "execution_count": null,
      "metadata": {
        "id": "PEAmiINUu8lk",
        "colab": {
          "base_uri": "https://localhost:8080/",
          "height": 442
        },
        "outputId": "4769220d-f11e-4e5b-c705-753af447050f"
      },
      "outputs": [
        {
          "output_type": "display_data",
          "data": {
            "text/plain": [
              "<Figure size 1080x504 with 1 Axes>"
            ],
            "image/png": "[encoded data removed]"
          },
          "metadata": {
            "needs_background": "light"
          }
        }
      ],
      "source": [
        "plt.figure(figsize=(15, 7))\n",
        "\n",
        "plt.scatter(x=good['amount'], y=good['duration'], color='c')\n",
        "plt.scatter(x=bad['amount'], y=bad['duration'], color='m')\n",
        "\n",
        "plt.xlabel('credit amount')  # подписываем ось х\n",
        "plt.ylabel('duration')  # подписываем ось y\n",
        "\n",
        "plt.show()"
      ]
    },
    {
      "cell_type": "markdown",
      "source": [
        "по диаграмме рассеивания не совсем четко, но все же прослеживается тенденция того, что чем больше сумма кредита, тем больше его продолжительность (т.е. тем дольше он выплачивается).\n",
        "\n",
        "бОльшее число кредитов берется размером до 5000 (DM? deutsche mark?) на период примерно от 5 до 25 лет.\n",
        "\n",
        "в кредитах на большую сумму (примерно от 10000) чаще отказывают (в этой области в основном фиолетовые точки) \n",
        "\n",
        "единичные случаи, когда брались кредиты продолжительностью более 50 лет. в основном максимальная продолжительность 60 лет, хотя есть одно исключение - попытка взять кредит на +70 лет, но кейс отрицательный"
      ],
      "metadata": {
        "id": "o9igGixdfn0o"
      }
    },
    {
      "cell_type": "markdown",
      "metadata": {
        "id": "mePIgqPqu8lk"
      },
      "source": [
        "### Задание 12  (1 балл)"
      ]
    },
    {
      "cell_type": "markdown",
      "metadata": {
        "id": "HWD2qUbLu8lk"
      },
      "source": [
        "Продвинемся глубже. Постройте 3D версию диаграммы рассеяния, добавив ось с возрастом."
      ]
    },
    {
      "cell_type": "code",
      "execution_count": null,
      "metadata": {
        "id": "SU2bmkPIu8lk",
        "colab": {
          "base_uri": "https://localhost:8080/",
          "height": 575
        },
        "outputId": "97ba2e79-3504-4bf6-b97d-cb72b6a8c5de"
      },
      "outputs": [
        {
          "output_type": "display_data",
          "data": {
            "text/plain": [
              "<Figure size 720x720 with 1 Axes>"
            ],
            "image/png": "[encoded data removed]"
          },
          "metadata": {
            "needs_background": "light"
          }
        }
      ],
      "source": [
        "fig = plt.figure(figsize=(10, 10))\n",
        "ax = fig.add_subplot(projection='3d')\n",
        "\n",
        "ax.scatter(good['amount'], good['duration'], good['age'], c='c')\n",
        "ax.scatter(bad['amount'], bad['duration'], bad['age'], c='m')\n",
        "\n",
        "ax.set_xlabel('credit amount')\n",
        "ax.set_ylabel('credit duration')\n",
        "ax.set_zlabel('age')\n",
        "\n",
        "plt.show()"
      ]
    },
    {
      "cell_type": "markdown",
      "source": [
        "видим, что больше всего кредитов, когда их размер до 2500 DM, он длительностью от 10 до 50 лет, а возраст заемщика до 40 лет.\n",
        "\n",
        "также видно, что голубые точки более плотно заполняют пространство, поэтому можно предположительно сказать, что положительных кейсов больше\n"
      ],
      "metadata": {
        "id": "BOOEY24reUGl"
      }
    },
    {
      "cell_type": "markdown",
      "metadata": {
        "id": "8Zxx_kxSYa_l"
      },
      "source": [
        "### Задание 13  (0.5 балла)"
      ]
    },
    {
      "cell_type": "markdown",
      "metadata": {
        "id": "5YBhNGg6Yjuw"
      },
      "source": [
        "Представьте все порядковые и бинарные признаки в виде числовых значений {0, ..., n - 1}, где n это количество значений признака. Избавьтесь от категориальных признаков."
      ]
    },
    {
      "cell_type": "code",
      "execution_count": null,
      "metadata": {
        "id": "81_7p_bEYjuw",
        "colab": {
          "base_uri": "https://localhost:8080/",
          "height": 206
        },
        "outputId": "d49b64c2-10af-45a9-e2ad-223a2cb3fa86"
      },
      "outputs": [
        {
          "output_type": "execute_result",
          "data": {
            "text/plain": [
              "   duration  amount employment_duration installment_rate present_residence  \\\n",
              "0        18    1049              < 1 yr             < 20          >= 7 yrs   \n",
              "1         9    2799    1 <= ... < 4 yrs   25 <= ... < 35  1 <= ... < 4 yrs   \n",
              "2        12     841    4 <= ... < 7 yrs   25 <= ... < 35          >= 7 yrs   \n",
              "3        12    2122    1 <= ... < 4 yrs   20 <= ... < 25  1 <= ... < 4 yrs   \n",
              "4        12    2171    1 <= ... < 4 yrs             < 20          >= 7 yrs   \n",
              "\n",
              "   age number_credits people_liable telephone foreign_worker credit_risk  \n",
              "0   21              1        0 to 2        no             no        good  \n",
              "1   36            2-3     3 or more        no             no        good  \n",
              "2   23              1        0 to 2        no             no        good  \n",
              "3   39            2-3     3 or more        no            yes        good  \n",
              "4   38            2-3        0 to 2        no            yes        good  "
            ],
            "text/html": [
              "\n",
              "  <div id=\"df-7a865082-de3a-4800-8f6c-e40577acbb87\">\n",
              "    <div class=\"colab-df-container\">\n",
              "      <div>\n",
              "<style scoped>\n",
              "    .dataframe tbody tr th:only-of-type {\n",
              "        vertical-align: middle;\n",
              "    }\n",
              "\n",
              "    .dataframe tbody tr th {\n",
              "        vertical-align: top;\n",
              "    }\n",
              "\n",
              "    .dataframe thead th {\n",
              "        text-align: right;\n",
              "    }\n",
              "</style>\n",
              "<table border=\"1\" class=\"dataframe\">\n",
              "  <thead>\n",
              "    <tr style=\"text-align: right;\">\n",
              "      <th></th>\n",
              "      <th>duration</th>\n",
              "      <th>amount</th>\n",
              "      <th>employment_duration</th>\n",
              "      <th>installment_rate</th>\n",
              "      <th>present_residence</th>\n",
              "      <th>age</th>\n",
              "      <th>number_credits</th>\n",
              "      <th>people_liable</th>\n",
              "      <th>telephone</th>\n",
              "      <th>foreign_worker</th>\n",
              "      <th>credit_risk</th>\n",
              "    </tr>\n",
              "  </thead>\n",
              "  <tbody>\n",
              "    <tr>\n",
              "      <th>0</th>\n",
              "      <td>18</td>\n",
              "      <td>1049</td>\n",
              "      <td>&lt; 1 yr</td>\n",
              "      <td>&lt; 20</td>\n",
              "      <td>&gt;= 7 yrs</td>\n",
              "      <td>21</td>\n",
              "      <td>1</td>\n",
              "      <td>0 to 2</td>\n",
              "      <td>no</td>\n",
              "      <td>no</td>\n",
              "      <td>good</td>\n",
              "    </tr>\n",
              "    <tr>\n",
              "      <th>1</th>\n",
              "      <td>9</td>\n",
              "      <td>2799</td>\n",
              "      <td>1 &lt;= ... &lt; 4 yrs</td>\n",
              "      <td>25 &lt;= ... &lt; 35</td>\n",
              "      <td>1 &lt;= ... &lt; 4 yrs</td>\n",
              "      <td>36</td>\n",
              "      <td>2-3</td>\n",
              "      <td>3 or more</td>\n",
              "      <td>no</td>\n",
              "      <td>no</td>\n",
              "      <td>good</td>\n",
              "    </tr>\n",
              "    <tr>\n",
              "      <th>2</th>\n",
              "      <td>12</td>\n",
              "      <td>841</td>\n",
              "      <td>4 &lt;= ... &lt; 7 yrs</td>\n",
              "      <td>25 &lt;= ... &lt; 35</td>\n",
              "      <td>&gt;= 7 yrs</td>\n",
              "      <td>23</td>\n",
              "      <td>1</td>\n",
              "      <td>0 to 2</td>\n",
              "      <td>no</td>\n",
              "      <td>no</td>\n",
              "      <td>good</td>\n",
              "    </tr>\n",
              "    <tr>\n",
              "      <th>3</th>\n",
              "      <td>12</td>\n",
              "      <td>2122</td>\n",
              "      <td>1 &lt;= ... &lt; 4 yrs</td>\n",
              "      <td>20 &lt;= ... &lt; 25</td>\n",
              "      <td>1 &lt;= ... &lt; 4 yrs</td>\n",
              "      <td>39</td>\n",
              "      <td>2-3</td>\n",
              "      <td>3 or more</td>\n",
              "      <td>no</td>\n",
              "      <td>yes</td>\n",
              "      <td>good</td>\n",
              "    </tr>\n",
              "    <tr>\n",
              "      <th>4</th>\n",
              "      <td>12</td>\n",
              "      <td>2171</td>\n",
              "      <td>1 &lt;= ... &lt; 4 yrs</td>\n",
              "      <td>&lt; 20</td>\n",
              "      <td>&gt;= 7 yrs</td>\n",
              "      <td>38</td>\n",
              "      <td>2-3</td>\n",
              "      <td>0 to 2</td>\n",
              "      <td>no</td>\n",
              "      <td>yes</td>\n",
              "      <td>good</td>\n",
              "    </tr>\n",
              "  </tbody>\n",
              "</table>\n",
              "</div>\n",
              "      <button class=\"colab-df-convert\" onclick=\"convertToInteractive('df-7a865082-de3a-4800-8f6c-e40577acbb87')\"\n",
              "              title=\"Convert this dataframe to an interactive table.\"\n",
              "              style=\"display:none;\">\n",
              "        \n",
              "  <svg xmlns=\"http://www.w3.org/2000/svg\" height=\"24px\"viewBox=\"0 0 24 24\"\n",
              "       width=\"24px\">\n",
              "    <path d=\"M0 0h24v24H0V0z\" fill=\"none\"/>\n",
              "    <path d=\"M18.56 5.44l.94 2.06.94-2.06 2.06-.94-2.06-.94-.94-2.06-.94 2.06-2.06.94zm-11 1L8.5 8.5l.94-2.06 2.06-.94-2.06-.94L8.5 2.5l-.94 2.06-2.06.94zm10 10l.94 2.06.94-2.06 2.06-.94-2.06-.94-.94-2.06-.94 2.06-2.06.94z\"/><path d=\"M17.41 7.96l-1.37-1.37c-.4-.4-.92-.59-1.43-.59-.52 0-1.04.2-1.43.59L10.3 9.45l-7.72 7.72c-.78.78-.78 2.05 0 2.83L4 21.41c.39.39.9.59 1.41.59.51 0 1.02-.2 1.41-.59l7.78-7.78 2.81-2.81c.8-.78.8-2.07 0-2.86zM5.41 20L4 18.59l7.72-7.72 1.47 1.35L5.41 20z\"/>\n",
              "  </svg>\n",
              "      </button>\n",
              "      \n",
              "  <style>\n",
              "    .colab-df-container {\n",
              "      display:flex;\n",
              "      flex-wrap:wrap;\n",
              "      gap: 12px;\n",
              "    }\n",
              "\n",
              "    .colab-df-convert {\n",
              "      background-color: #E8F0FE;\n",
              "      border: none;\n",
              "      border-radius: 50%;\n",
              "      cursor: pointer;\n",
              "      display: none;\n",
              "      fill: #1967D2;\n",
              "      height: 32px;\n",
              "      padding: 0 0 0 0;\n",
              "      width: 32px;\n",
              "    }\n",
              "\n",
              "    .colab-df-convert:hover {\n",
              "      background-color: #E2EBFA;\n",
              "      box-shadow: 0px 1px 2px rgba(60, 64, 67, 0.3), 0px 1px 3px 1px rgba(60, 64, 67, 0.15);\n",
              "      fill: #174EA6;\n",
              "    }\n",
              "\n",
              "    [theme=dark] .colab-df-convert {\n",
              "      background-color: #3B4455;\n",
              "      fill: #D2E3FC;\n",
              "    }\n",
              "\n",
              "    [theme=dark] .colab-df-convert:hover {\n",
              "      background-color: #434B5C;\n",
              "      box-shadow: 0px 1px 3px 1px rgba(0, 0, 0, 0.15);\n",
              "      filter: drop-shadow(0px 1px 2px rgba(0, 0, 0, 0.3));\n",
              "      fill: #FFFFFF;\n",
              "    }\n",
              "  </style>\n",
              "\n",
              "      <script>\n",
              "        const buttonEl =\n",
              "          document.querySelector('#df-7a865082-de3a-4800-8f6c-e40577acbb87 button.colab-df-convert');\n",
              "        buttonEl.style.display =\n",
              "          google.colab.kernel.accessAllowed ? 'block' : 'none';\n",
              "\n",
              "        async function convertToInteractive(key) {\n",
              "          const element = document.querySelector('#df-7a865082-de3a-4800-8f6c-e40577acbb87');\n",
              "          const dataTable =\n",
              "            await google.colab.kernel.invokeFunction('convertToInteractive',\n",
              "                                                     [key], {});\n",
              "          if (!dataTable) return;\n",
              "\n",
              "          const docLinkHtml = 'Like what you see? Visit the ' +\n",
              "            '<a target=\"_blank\" href=https://colab.research.google.com/notebooks/data_table.ipynb>data table notebook</a>'\n",
              "            + ' to learn more about interactive tables.';\n",
              "          element.innerHTML = '';\n",
              "          dataTable['output_type'] = 'display_data';\n",
              "          await google.colab.output.renderOutput(dataTable, element);\n",
              "          const docLink = document.createElement('div');\n",
              "          docLink.innerHTML = docLinkHtml;\n",
              "          element.appendChild(docLink);\n",
              "        }\n",
              "      </script>\n",
              "    </div>\n",
              "  </div>\n",
              "  "
            ]
          },
          "metadata": {},
          "execution_count": 27
        }
      ],
      "source": [
        "categorical_features = ['status', 'credit_history', 'purpose', 'savings',\n",
        "                        'personal_status_sex', 'other_debtors', 'property',\n",
        "                        'other_installment_plans', 'housing', 'job']\n",
        "                        \n",
        "new_data = data.drop(columns=categorical_features)  # убираю все столбики, содержашие категориальные признаки\n",
        "new_data.head()"
      ]
    },
    {
      "cell_type": "markdown",
      "source": [
        "теперь будем разбираться с порядковыми и бинарными."
      ],
      "metadata": {
        "id": "72yy4BTqL97O"
      }
    },
    {
      "cell_type": "code",
      "source": [
        "data.employment_duration.unique()"
      ],
      "metadata": {
        "colab": {
          "base_uri": "https://localhost:8080/"
        },
        "id": "xfxf7fM-ENtu",
        "outputId": "f43a1e48-2563-4c07-cd4f-4e542f3caf56"
      },
      "execution_count": null,
      "outputs": [
        {
          "output_type": "execute_result",
          "data": {
            "text/plain": [
              "array(['< 1 yr', '1 <= ... < 4 yrs', '4 <= ... < 7 yrs', 'unemployed',\n",
              "       '>= 7 yrs'], dtype=object)"
            ]
          },
          "metadata": {},
          "execution_count": 28
        }
      ]
    },
    {
      "cell_type": "code",
      "source": [
        "data.installment_rate.unique()"
      ],
      "metadata": {
        "colab": {
          "base_uri": "https://localhost:8080/"
        },
        "id": "uyuZIYvKEoYA",
        "outputId": "3212bedb-eab1-4ab0-87cc-95e1ca976731"
      },
      "execution_count": null,
      "outputs": [
        {
          "output_type": "execute_result",
          "data": {
            "text/plain": [
              "array(['< 20', '25 <= ... < 35', '20 <= ... < 25', '>= 35'], dtype=object)"
            ]
          },
          "metadata": {},
          "execution_count": 29
        }
      ]
    },
    {
      "cell_type": "code",
      "source": [
        "data.present_residence.unique()"
      ],
      "metadata": {
        "colab": {
          "base_uri": "https://localhost:8080/"
        },
        "id": "uqYam5MEE-4M",
        "outputId": "cf9c390d-d01f-437c-aa20-06ce9dcd133f"
      },
      "execution_count": null,
      "outputs": [
        {
          "output_type": "execute_result",
          "data": {
            "text/plain": [
              "array(['>= 7 yrs', '1 <= ... < 4 yrs', '4 <= ... < 7 yrs', '< 1 yr'],\n",
              "      dtype=object)"
            ]
          },
          "metadata": {},
          "execution_count": 30
        }
      ]
    },
    {
      "cell_type": "code",
      "source": [
        "data.number_credits.unique()"
      ],
      "metadata": {
        "colab": {
          "base_uri": "https://localhost:8080/"
        },
        "id": "brzsQkCMFF8k",
        "outputId": "fcd94b28-5fa3-4f59-db3f-581efd487d7e"
      },
      "execution_count": null,
      "outputs": [
        {
          "output_type": "execute_result",
          "data": {
            "text/plain": [
              "array(['1', '2-3', '4-5', '>= 6'], dtype=object)"
            ]
          },
          "metadata": {},
          "execution_count": 31
        }
      ]
    },
    {
      "cell_type": "code",
      "source": [
        "data.people_liable.unique()"
      ],
      "metadata": {
        "colab": {
          "base_uri": "https://localhost:8080/"
        },
        "id": "S_HIVUXjFfOz",
        "outputId": "fd0f9bc7-88f1-4d0f-aef7-8e1b6804b3a1"
      },
      "execution_count": null,
      "outputs": [
        {
          "output_type": "execute_result",
          "data": {
            "text/plain": [
              "array(['0 to 2', '3 or more'], dtype=object)"
            ]
          },
          "metadata": {},
          "execution_count": 32
        }
      ]
    },
    {
      "cell_type": "code",
      "source": [
        "data.telephone.unique()"
      ],
      "metadata": {
        "colab": {
          "base_uri": "https://localhost:8080/"
        },
        "id": "wvGOYysUS8Qr",
        "outputId": "cc5f898d-e330-4adf-a9ca-2bb75dd1fa1e"
      },
      "execution_count": null,
      "outputs": [
        {
          "output_type": "execute_result",
          "data": {
            "text/plain": [
              "array(['no', 'yes (under customer name)'], dtype=object)"
            ]
          },
          "metadata": {},
          "execution_count": 33
        }
      ]
    },
    {
      "cell_type": "code",
      "source": [
        "# для каждого порядкового/бинарного признака создаем словарь, в котором каждому уникальному\n",
        "# значению этого признака присваиваем число.\n",
        "# тк эти виды признаков можно условно упорядочить, присваиваем числа также упорядоченно:\n",
        "# \"наименьшее\" значение - 0, побольше - 1 и тд\n",
        "\n",
        "encoded = {'employment_duration':\n",
        "                          {'< 1 yr': 1, '1 <= ... < 4 yrs': 2, '4 <= ... < 7 yrs': 3, 'unemployed': 0, '>= 7 yrs': 4},\n",
        "           'installment_rate':\n",
        "                          {'< 20': 0, '25 <= ... < 35': 2, '20 <= ... < 25': 1, '>= 35': 3},\n",
        "           'present_residence':\n",
        "                          {'>= 7 yrs': 3, '1 <= ... < 4 yrs': 1, '4 <= ... < 7 yrs': 2, '< 1 yr': 0},\n",
        "           'number_credits':\n",
        "                          {'1': 0, '2-3': 1, '4-5': 2, '>= 6': 3},\n",
        "           'people_liable': \n",
        "                          {'0 to 2': 0, '3 or more': 1},\n",
        "           'telephone':\n",
        "                          {'no': 0, 'yes (under customer name)': 1},\n",
        "           'foreign_worker':\n",
        "                          {'no': 0, 'yes': 1},\n",
        "           'credit_risk':\n",
        "                          {'bad': 0, 'good': 1}\n",
        "          }\n",
        "\n",
        "new_data.replace(encoded, inplace=True)\n",
        "new_data.head()"
      ],
      "metadata": {
        "colab": {
          "base_uri": "https://localhost:8080/",
          "height": 206
        },
        "id": "60ze6j8VJofH",
        "outputId": "609f1ec9-7547-4f7d-d898-68eebf24d58e"
      },
      "execution_count": null,
      "outputs": [
        {
          "output_type": "execute_result",
          "data": {
            "text/plain": [
              "   duration  amount  employment_duration  installment_rate  present_residence  \\\n",
              "0        18    1049                    1                 0                  3   \n",
              "1         9    2799                    2                 2                  1   \n",
              "2        12     841                    3                 2                  3   \n",
              "3        12    2122                    2                 1                  1   \n",
              "4        12    2171                    2                 0                  3   \n",
              "\n",
              "   age  number_credits  people_liable  telephone  foreign_worker  credit_risk  \n",
              "0   21               0              0          0               0            1  \n",
              "1   36               1              1          0               0            1  \n",
              "2   23               0              0          0               0            1  \n",
              "3   39               1              1          0               1            1  \n",
              "4   38               1              0          0               1            1  "
            ],
            "text/html": [
              "\n",
              "  <div id=\"df-d67a93c6-adb0-4107-bd02-1c8e29e8438d\">\n",
              "    <div class=\"colab-df-container\">\n",
              "      <div>\n",
              "<style scoped>\n",
              "    .dataframe tbody tr th:only-of-type {\n",
              "        vertical-align: middle;\n",
              "    }\n",
              "\n",
              "    .dataframe tbody tr th {\n",
              "        vertical-align: top;\n",
              "    }\n",
              "\n",
              "    .dataframe thead th {\n",
              "        text-align: right;\n",
              "    }\n",
              "</style>\n",
              "<table border=\"1\" class=\"dataframe\">\n",
              "  <thead>\n",
              "    <tr style=\"text-align: right;\">\n",
              "      <th></th>\n",
              "      <th>duration</th>\n",
              "      <th>amount</th>\n",
              "      <th>employment_duration</th>\n",
              "      <th>installment_rate</th>\n",
              "      <th>present_residence</th>\n",
              "      <th>age</th>\n",
              "      <th>number_credits</th>\n",
              "      <th>people_liable</th>\n",
              "      <th>telephone</th>\n",
              "      <th>foreign_worker</th>\n",
              "      <th>credit_risk</th>\n",
              "    </tr>\n",
              "  </thead>\n",
              "  <tbody>\n",
              "    <tr>\n",
              "      <th>0</th>\n",
              "      <td>18</td>\n",
              "      <td>1049</td>\n",
              "      <td>1</td>\n",
              "      <td>0</td>\n",
              "      <td>3</td>\n",
              "      <td>21</td>\n",
              "      <td>0</td>\n",
              "      <td>0</td>\n",
              "      <td>0</td>\n",
              "      <td>0</td>\n",
              "      <td>1</td>\n",
              "    </tr>\n",
              "    <tr>\n",
              "      <th>1</th>\n",
              "      <td>9</td>\n",
              "      <td>2799</td>\n",
              "      <td>2</td>\n",
              "      <td>2</td>\n",
              "      <td>1</td>\n",
              "      <td>36</td>\n",
              "      <td>1</td>\n",
              "      <td>1</td>\n",
              "      <td>0</td>\n",
              "      <td>0</td>\n",
              "      <td>1</td>\n",
              "    </tr>\n",
              "    <tr>\n",
              "      <th>2</th>\n",
              "      <td>12</td>\n",
              "      <td>841</td>\n",
              "      <td>3</td>\n",
              "      <td>2</td>\n",
              "      <td>3</td>\n",
              "      <td>23</td>\n",
              "      <td>0</td>\n",
              "      <td>0</td>\n",
              "      <td>0</td>\n",
              "      <td>0</td>\n",
              "      <td>1</td>\n",
              "    </tr>\n",
              "    <tr>\n",
              "      <th>3</th>\n",
              "      <td>12</td>\n",
              "      <td>2122</td>\n",
              "      <td>2</td>\n",
              "      <td>1</td>\n",
              "      <td>1</td>\n",
              "      <td>39</td>\n",
              "      <td>1</td>\n",
              "      <td>1</td>\n",
              "      <td>0</td>\n",
              "      <td>1</td>\n",
              "      <td>1</td>\n",
              "    </tr>\n",
              "    <tr>\n",
              "      <th>4</th>\n",
              "      <td>12</td>\n",
              "      <td>2171</td>\n",
              "      <td>2</td>\n",
              "      <td>0</td>\n",
              "      <td>3</td>\n",
              "      <td>38</td>\n",
              "      <td>1</td>\n",
              "      <td>0</td>\n",
              "      <td>0</td>\n",
              "      <td>1</td>\n",
              "      <td>1</td>\n",
              "    </tr>\n",
              "  </tbody>\n",
              "</table>\n",
              "</div>\n",
              "      <button class=\"colab-df-convert\" onclick=\"convertToInteractive('df-d67a93c6-adb0-4107-bd02-1c8e29e8438d')\"\n",
              "              title=\"Convert this dataframe to an interactive table.\"\n",
              "              style=\"display:none;\">\n",
              "        \n",
              "  <svg xmlns=\"http://www.w3.org/2000/svg\" height=\"24px\"viewBox=\"0 0 24 24\"\n",
              "       width=\"24px\">\n",
              "    <path d=\"M0 0h24v24H0V0z\" fill=\"none\"/>\n",
              "    <path d=\"M18.56 5.44l.94 2.06.94-2.06 2.06-.94-2.06-.94-.94-2.06-.94 2.06-2.06.94zm-11 1L8.5 8.5l.94-2.06 2.06-.94-2.06-.94L8.5 2.5l-.94 2.06-2.06.94zm10 10l.94 2.06.94-2.06 2.06-.94-2.06-.94-.94-2.06-.94 2.06-2.06.94z\"/><path d=\"M17.41 7.96l-1.37-1.37c-.4-.4-.92-.59-1.43-.59-.52 0-1.04.2-1.43.59L10.3 9.45l-7.72 7.72c-.78.78-.78 2.05 0 2.83L4 21.41c.39.39.9.59 1.41.59.51 0 1.02-.2 1.41-.59l7.78-7.78 2.81-2.81c.8-.78.8-2.07 0-2.86zM5.41 20L4 18.59l7.72-7.72 1.47 1.35L5.41 20z\"/>\n",
              "  </svg>\n",
              "      </button>\n",
              "      \n",
              "  <style>\n",
              "    .colab-df-container {\n",
              "      display:flex;\n",
              "      flex-wrap:wrap;\n",
              "      gap: 12px;\n",
              "    }\n",
              "\n",
              "    .colab-df-convert {\n",
              "      background-color: #E8F0FE;\n",
              "      border: none;\n",
              "      border-radius: 50%;\n",
              "      cursor: pointer;\n",
              "      display: none;\n",
              "      fill: #1967D2;\n",
              "      height: 32px;\n",
              "      padding: 0 0 0 0;\n",
              "      width: 32px;\n",
              "    }\n",
              "\n",
              "    .colab-df-convert:hover {\n",
              "      background-color: #E2EBFA;\n",
              "      box-shadow: 0px 1px 2px rgba(60, 64, 67, 0.3), 0px 1px 3px 1px rgba(60, 64, 67, 0.15);\n",
              "      fill: #174EA6;\n",
              "    }\n",
              "\n",
              "    [theme=dark] .colab-df-convert {\n",
              "      background-color: #3B4455;\n",
              "      fill: #D2E3FC;\n",
              "    }\n",
              "\n",
              "    [theme=dark] .colab-df-convert:hover {\n",
              "      background-color: #434B5C;\n",
              "      box-shadow: 0px 1px 3px 1px rgba(0, 0, 0, 0.15);\n",
              "      filter: drop-shadow(0px 1px 2px rgba(0, 0, 0, 0.3));\n",
              "      fill: #FFFFFF;\n",
              "    }\n",
              "  </style>\n",
              "\n",
              "      <script>\n",
              "        const buttonEl =\n",
              "          document.querySelector('#df-d67a93c6-adb0-4107-bd02-1c8e29e8438d button.colab-df-convert');\n",
              "        buttonEl.style.display =\n",
              "          google.colab.kernel.accessAllowed ? 'block' : 'none';\n",
              "\n",
              "        async function convertToInteractive(key) {\n",
              "          const element = document.querySelector('#df-d67a93c6-adb0-4107-bd02-1c8e29e8438d');\n",
              "          const dataTable =\n",
              "            await google.colab.kernel.invokeFunction('convertToInteractive',\n",
              "                                                     [key], {});\n",
              "          if (!dataTable) return;\n",
              "\n",
              "          const docLinkHtml = 'Like what you see? Visit the ' +\n",
              "            '<a target=\"_blank\" href=https://colab.research.google.com/notebooks/data_table.ipynb>data table notebook</a>'\n",
              "            + ' to learn more about interactive tables.';\n",
              "          element.innerHTML = '';\n",
              "          dataTable['output_type'] = 'display_data';\n",
              "          await google.colab.output.renderOutput(dataTable, element);\n",
              "          const docLink = document.createElement('div');\n",
              "          docLink.innerHTML = docLinkHtml;\n",
              "          element.appendChild(docLink);\n",
              "        }\n",
              "      </script>\n",
              "    </div>\n",
              "  </div>\n",
              "  "
            ]
          },
          "metadata": {},
          "execution_count": 34
        }
      ]
    },
    {
      "cell_type": "markdown",
      "metadata": {
        "id": "Iz7VTiFpu8lo"
      },
      "source": [
        "### Задание 14  (2 балла)"
      ]
    },
    {
      "cell_type": "markdown",
      "metadata": {
        "id": "Mv52wusiu8lo"
      },
      "source": [
        "По результатам предыдущего задания у вас должна получиться таблица, в которой все признаки так или иначе представлены числовыми значениями. Попробуйте придумать на основе проведённых исследований данных какую-нибудь формулу, связывающую целевую переменную с признаками, не используя готовых инструментов машинного обучения. По желанию вы можете исключить ещё какие-то признаки, или, наоборот, сформировать новые на основе имеющихся. Возможно, вы захотите отмасштабировать большие наборы численных значений некоторых признаков с помощью интервалов. Цель: реализовать функцию, которая будет принимать на вход набор признаков для объекта выборки и возвращать прогноз целевой переменной (0 или 1). Например, вы можете просто сложить все признаки и возращать ноль, если сумма отрицательная, а в противном случае единицу. Но наверняка можно придумать лучше!\n",
        "Данные уже разделены на набор для обучения, который вы можете использовать как угодно, и тестовый, на котором нужно будет проверить вашу точность. Постарайтесь достичь точности хотя бы 0.6."
      ]
    },
    {
      "cell_type": "code",
      "execution_count": null,
      "metadata": {
        "id": "V8vjz88qu8lo",
        "colab": {
          "base_uri": "https://localhost:8080/"
        },
        "outputId": "eb607bc7-7e2b-487d-fe66-a48bdec9d5de"
      },
      "outputs": [
        {
          "output_type": "stream",
          "name": "stderr",
          "text": [
            "<ipython-input-35-5d30bd6d1f0d>:12: FutureWarning: In a future version of pandas all arguments of DataFrame.drop except for the argument 'labels' will be keyword-only\n",
            "  X = new_data.drop('credit_risk', 1).values\n"
          ]
        },
        {
          "output_type": "execute_result",
          "data": {
            "text/plain": [
              "0.66"
            ]
          },
          "metadata": {},
          "execution_count": 35
        }
      ],
      "source": [
        "def predict(Xtest: np.array) -> np.array:\n",
        "  res = np.empty((0, 1), int)  # создаем пустой массив\n",
        "\n",
        "  for object in Xtest:\n",
        "    res = np.append(res, np.array([[1]]), axis=0)  # для каждого объекта предсказываем рез-т единичку :)\n",
        "    # duration, amount, employment_d, installment_r, pres_residence, age, num_credits, people_liable, phone, foreign = object[:]\n",
        "  return res \n",
        "\n",
        "from sklearn.model_selection import train_test_split\n",
        "from sklearn.metrics import accuracy_score\n",
        "\n",
        "X = new_data.drop('credit_risk', 1).values\n",
        "y = new_data['credit_risk'].values\n",
        "\n",
        "X_train, X_test, y_train, y_test = train_test_split(X, y, test_size=0.25, random_state=10)\n",
        "\n",
        "accuracy_score(y_test, predict(X_test))"
      ]
    }
  ],
  "metadata": {
    "colab": {
      "provenance": []
    },
    "kernelspec": {
      "display_name": "Python 3 (ipykernel)",
      "language": "python",
      "name": "python3"
    },
    "language_info": {
      "codemirror_mode": {
        "name": "ipython",
        "version": 3
      },
      "file_extension": ".py",
      "mimetype": "text/x-python",
      "name": "python",
      "nbconvert_exporter": "python",
      "pygments_lexer": "ipython3",
      "version": "3.9.7"
    }
  },
  "nbformat": 4,
  "nbformat_minor": 0
}